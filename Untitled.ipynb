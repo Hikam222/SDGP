{
 "cells": [
  {
   "cell_type": "code",
   "execution_count": 68,
   "metadata": {},
   "outputs": [],
   "source": [
    "import pandas as pd\n",
    "import matplotlib.pyplot as plt\n",
    "import seaborn as sas"
   ]
  },
  {
   "cell_type": "code",
   "execution_count": 69,
   "metadata": {},
   "outputs": [
    {
     "ename": "KeyError",
     "evalue": "('JobNo', 'suffix', 'ItemCode', 'ColorGroup', 'UoM', 'QtyCom', 'QtyScrp', 'WC', 'MtrWgt')",
     "output_type": "error",
     "traceback": [
      "\u001b[1;31m---------------------------------------------------------------------------\u001b[0m",
      "\u001b[1;31mKeyError\u001b[0m                                  Traceback (most recent call last)",
      "\u001b[1;32m~\\anaconda3\\lib\\site-packages\\pandas\\core\\indexes\\base.py\u001b[0m in \u001b[0;36mget_loc\u001b[1;34m(self, key, method, tolerance)\u001b[0m\n\u001b[0;32m   2894\u001b[0m             \u001b[1;32mtry\u001b[0m\u001b[1;33m:\u001b[0m\u001b[1;33m\u001b[0m\u001b[1;33m\u001b[0m\u001b[0m\n\u001b[1;32m-> 2895\u001b[1;33m                 \u001b[1;32mreturn\u001b[0m \u001b[0mself\u001b[0m\u001b[1;33m.\u001b[0m\u001b[0m_engine\u001b[0m\u001b[1;33m.\u001b[0m\u001b[0mget_loc\u001b[0m\u001b[1;33m(\u001b[0m\u001b[0mcasted_key\u001b[0m\u001b[1;33m)\u001b[0m\u001b[1;33m\u001b[0m\u001b[1;33m\u001b[0m\u001b[0m\n\u001b[0m\u001b[0;32m   2896\u001b[0m             \u001b[1;32mexcept\u001b[0m \u001b[0mKeyError\u001b[0m \u001b[1;32mas\u001b[0m \u001b[0merr\u001b[0m\u001b[1;33m:\u001b[0m\u001b[1;33m\u001b[0m\u001b[1;33m\u001b[0m\u001b[0m\n",
      "\u001b[1;32mpandas\\_libs\\index.pyx\u001b[0m in \u001b[0;36mpandas._libs.index.IndexEngine.get_loc\u001b[1;34m()\u001b[0m\n",
      "\u001b[1;32mpandas\\_libs\\index.pyx\u001b[0m in \u001b[0;36mpandas._libs.index.IndexEngine.get_loc\u001b[1;34m()\u001b[0m\n",
      "\u001b[1;32mpandas\\_libs\\hashtable_class_helper.pxi\u001b[0m in \u001b[0;36mpandas._libs.hashtable.PyObjectHashTable.get_item\u001b[1;34m()\u001b[0m\n",
      "\u001b[1;32mpandas\\_libs\\hashtable_class_helper.pxi\u001b[0m in \u001b[0;36mpandas._libs.hashtable.PyObjectHashTable.get_item\u001b[1;34m()\u001b[0m\n",
      "\u001b[1;31mKeyError\u001b[0m: ('JobNo', 'suffix', 'ItemCode', 'ColorGroup', 'UoM', 'QtyCom', 'QtyScrp', 'WC', 'MtrWgt')",
      "\nThe above exception was the direct cause of the following exception:\n",
      "\u001b[1;31mKeyError\u001b[0m                                  Traceback (most recent call last)",
      "\u001b[1;32m<ipython-input-69-c27b3d60989f>\u001b[0m in \u001b[0;36m<module>\u001b[1;34m\u001b[0m\n\u001b[0;32m      1\u001b[0m \u001b[0mcmap\u001b[0m\u001b[1;33m=\u001b[0m\u001b[0msas\u001b[0m\u001b[1;33m.\u001b[0m\u001b[0mdiverging_palette\u001b[0m\u001b[1;33m(\u001b[0m\u001b[1;36m220\u001b[0m\u001b[1;33m,\u001b[0m\u001b[1;36m10\u001b[0m\u001b[1;33m,\u001b[0m\u001b[0mas_cmap\u001b[0m\u001b[1;33m=\u001b[0m\u001b[1;32mTrue\u001b[0m\u001b[1;33m)\u001b[0m\u001b[1;33m\u001b[0m\u001b[1;33m\u001b[0m\u001b[0m\n\u001b[1;32m----> 2\u001b[1;33m sas.heatmap(df['JobNo', 'suffix', 'ItemCode', 'ColorGroup', 'UoM', 'QtyCom',\n\u001b[0m\u001b[0;32m      3\u001b[0m        'QtyScrp', 'WC', 'MtrWgt'].corr(),vmax=.3,center=0,cmap=cmap,square=True,linewidth=.5,cbar_kws={\"shrink\":.5})\n",
      "\u001b[1;32m~\\anaconda3\\lib\\site-packages\\pandas\\core\\frame.py\u001b[0m in \u001b[0;36m__getitem__\u001b[1;34m(self, key)\u001b[0m\n\u001b[0;32m   2900\u001b[0m             \u001b[1;32mif\u001b[0m \u001b[0mself\u001b[0m\u001b[1;33m.\u001b[0m\u001b[0mcolumns\u001b[0m\u001b[1;33m.\u001b[0m\u001b[0mnlevels\u001b[0m \u001b[1;33m>\u001b[0m \u001b[1;36m1\u001b[0m\u001b[1;33m:\u001b[0m\u001b[1;33m\u001b[0m\u001b[1;33m\u001b[0m\u001b[0m\n\u001b[0;32m   2901\u001b[0m                 \u001b[1;32mreturn\u001b[0m \u001b[0mself\u001b[0m\u001b[1;33m.\u001b[0m\u001b[0m_getitem_multilevel\u001b[0m\u001b[1;33m(\u001b[0m\u001b[0mkey\u001b[0m\u001b[1;33m)\u001b[0m\u001b[1;33m\u001b[0m\u001b[1;33m\u001b[0m\u001b[0m\n\u001b[1;32m-> 2902\u001b[1;33m             \u001b[0mindexer\u001b[0m \u001b[1;33m=\u001b[0m \u001b[0mself\u001b[0m\u001b[1;33m.\u001b[0m\u001b[0mcolumns\u001b[0m\u001b[1;33m.\u001b[0m\u001b[0mget_loc\u001b[0m\u001b[1;33m(\u001b[0m\u001b[0mkey\u001b[0m\u001b[1;33m)\u001b[0m\u001b[1;33m\u001b[0m\u001b[1;33m\u001b[0m\u001b[0m\n\u001b[0m\u001b[0;32m   2903\u001b[0m             \u001b[1;32mif\u001b[0m \u001b[0mis_integer\u001b[0m\u001b[1;33m(\u001b[0m\u001b[0mindexer\u001b[0m\u001b[1;33m)\u001b[0m\u001b[1;33m:\u001b[0m\u001b[1;33m\u001b[0m\u001b[1;33m\u001b[0m\u001b[0m\n\u001b[0;32m   2904\u001b[0m                 \u001b[0mindexer\u001b[0m \u001b[1;33m=\u001b[0m \u001b[1;33m[\u001b[0m\u001b[0mindexer\u001b[0m\u001b[1;33m]\u001b[0m\u001b[1;33m\u001b[0m\u001b[1;33m\u001b[0m\u001b[0m\n",
      "\u001b[1;32m~\\anaconda3\\lib\\site-packages\\pandas\\core\\indexes\\base.py\u001b[0m in \u001b[0;36mget_loc\u001b[1;34m(self, key, method, tolerance)\u001b[0m\n\u001b[0;32m   2895\u001b[0m                 \u001b[1;32mreturn\u001b[0m \u001b[0mself\u001b[0m\u001b[1;33m.\u001b[0m\u001b[0m_engine\u001b[0m\u001b[1;33m.\u001b[0m\u001b[0mget_loc\u001b[0m\u001b[1;33m(\u001b[0m\u001b[0mcasted_key\u001b[0m\u001b[1;33m)\u001b[0m\u001b[1;33m\u001b[0m\u001b[1;33m\u001b[0m\u001b[0m\n\u001b[0;32m   2896\u001b[0m             \u001b[1;32mexcept\u001b[0m \u001b[0mKeyError\u001b[0m \u001b[1;32mas\u001b[0m \u001b[0merr\u001b[0m\u001b[1;33m:\u001b[0m\u001b[1;33m\u001b[0m\u001b[1;33m\u001b[0m\u001b[0m\n\u001b[1;32m-> 2897\u001b[1;33m                 \u001b[1;32mraise\u001b[0m \u001b[0mKeyError\u001b[0m\u001b[1;33m(\u001b[0m\u001b[0mkey\u001b[0m\u001b[1;33m)\u001b[0m \u001b[1;32mfrom\u001b[0m \u001b[0merr\u001b[0m\u001b[1;33m\u001b[0m\u001b[1;33m\u001b[0m\u001b[0m\n\u001b[0m\u001b[0;32m   2898\u001b[0m \u001b[1;33m\u001b[0m\u001b[0m\n\u001b[0;32m   2899\u001b[0m         \u001b[1;32mif\u001b[0m \u001b[0mtolerance\u001b[0m \u001b[1;32mis\u001b[0m \u001b[1;32mnot\u001b[0m \u001b[1;32mNone\u001b[0m\u001b[1;33m:\u001b[0m\u001b[1;33m\u001b[0m\u001b[1;33m\u001b[0m\u001b[0m\n",
      "\u001b[1;31mKeyError\u001b[0m: ('JobNo', 'suffix', 'ItemCode', 'ColorGroup', 'UoM', 'QtyCom', 'QtyScrp', 'WC', 'MtrWgt')"
     ]
    }
   ],
   "source": [
    "cmap=sas.diverging_palette(220,10,as_cmap=True)\n",
    "sas.heatmap(df['JobNo', 'suffix', 'ItemCode', 'ColorGroup', 'UoM', 'QtyCom',\n",
    "       'QtyScrp', 'WC', 'MtrWgt'].corr(),vmax=.3,center=0,cmap=cmap,square=True,linewidth=.5,cbar_kws={\"shrink\":.5})"
   ]
  },
  {
   "cell_type": "code",
   "execution_count": 57,
   "metadata": {},
   "outputs": [
    {
     "name": "stdout",
     "output_type": "stream",
     "text": [
      "            JobNo  suffix                        ItemCode ColorGroup  UoM  \\\n",
      "0      1900010101       0            FW380049-015BK-0010E        NaN  Mts   \n",
      "1      1900010101       0            FW380049-015BK-0010E        NaN  Mts   \n",
      "2      1900010101       0            FW380049-015BK-0010E        NaN  Mts   \n",
      "3      1900010101       0            FW380049-015BK-0010E        NaN  Mts   \n",
      "4      1900010101       1                    FW380049-015        NaN  Kgs   \n",
      "...           ...     ...                             ...        ...  ...   \n",
      "65529  B204060103       1       BMY-FJ086559-038-51000059        NaN  Kgs   \n",
      "65530  B204060103       2  BMY-FJ086559-038-51000285-BACK        NaN  Kgs   \n",
      "65531  B204060103       3  BMY-FJ086559-038-51000285-BODY        NaN  Kgs   \n",
      "65532  B204060103       4     BMR-FJ086559-038-FDCY000073        NaN  Kgs   \n",
      "65533  B204060201       0                 FJ086519-038/GR        NaN  Kgs   \n",
      "\n",
      "            QtyCom  QtyScrp      WC  MtrWgt  \n",
      "0      8185.538881     0.00  F1_DYE    0.00  \n",
      "1         0.000000     0.00  F1_DYE    0.00  \n",
      "2      8185.538881     0.00   F1_QA    0.00  \n",
      "3      8000.000000   214.00   F1_PK    0.00  \n",
      "4       123.290000     8.79  F2_JAC    7.33  \n",
      "...            ...      ...     ...     ...  \n",
      "65529     0.000000     0.00   F2_WP    0.00  \n",
      "65530     0.000000     0.00   F2_WP    0.00  \n",
      "65531     0.000000     0.00   F2_WP    0.00  \n",
      "65532     0.000000     0.00   F2_WP    0.00  \n",
      "65533     0.000000     0.00  F2_JAC   22.85  \n",
      "\n",
      "[65534 rows x 9 columns]\n"
     ]
    }
   ],
   "source": [
    "df=pd.read_excel(r'C:\\Users\\dumindu yasa\\Desktop\\sdgp\\DS\\Elastic Production WD.xls')\n",
    "print (df)\n"
   ]
  },
  {
   "cell_type": "code",
   "execution_count": 58,
   "metadata": {},
   "outputs": [
    {
     "data": {
      "text/plain": [
       "Index(['JobNo', 'suffix', 'ItemCode', 'ColorGroup', 'UoM', 'QtyCom', 'QtyScrp',\n",
       "       'WC', 'MtrWgt'],\n",
       "      dtype='object')"
      ]
     },
     "execution_count": 58,
     "metadata": {},
     "output_type": "execute_result"
    }
   ],
   "source": [
    "df.columns\n"
   ]
  },
  {
   "cell_type": "code",
   "execution_count": 59,
   "metadata": {},
   "outputs": [
    {
     "data": {
      "text/plain": [
       "F1_QA     15438\n",
       "F1_PK     15425\n",
       "F1_DYE    13533\n",
       "F1_WP     12693\n",
       "F1_KNT     4275\n",
       "F1_WEV     2808\n",
       "F2_WP       962\n",
       "F2_JAC      384\n",
       "F2_PK        15\n",
       "F1_PFT        1\n",
       "Name: WC, dtype: int64"
      ]
     },
     "execution_count": 59,
     "metadata": {},
     "output_type": "execute_result"
    }
   ],
   "source": [
    "df.WC.value_counts()"
   ]
  },
  {
   "cell_type": "code",
   "execution_count": 60,
   "metadata": {},
   "outputs": [
    {
     "data": {
      "text/plain": [
       "0    46889\n",
       "1     6826\n",
       "2     5702\n",
       "3     4225\n",
       "4     1463\n",
       "5      335\n",
       "6       72\n",
       "7       15\n",
       "8        7\n",
       "Name: suffix, dtype: int64"
      ]
     },
     "execution_count": 60,
     "metadata": {},
     "output_type": "execute_result"
    }
   ],
   "source": [
    "df.suffix.value_counts()"
   ]
  },
  {
   "cell_type": "code",
   "execution_count": 61,
   "metadata": {},
   "outputs": [
    {
     "data": {
      "text/plain": [
       "DYE_SG_LT    8861\n",
       "DYE_SG_MD    7575\n",
       "DYE_SG_FI    7009\n",
       "DYE_SG_BK    6089\n",
       "DYE_SG_WH    5347\n",
       "DYE_SG_DK    4265\n",
       "Name: ColorGroup, dtype: int64"
      ]
     },
     "execution_count": 61,
     "metadata": {},
     "output_type": "execute_result"
    }
   ],
   "source": [
    "df.ColorGroup.value_counts()"
   ]
  },
  {
   "cell_type": "code",
   "execution_count": 62,
   "metadata": {},
   "outputs": [
    {
     "data": {
      "text/plain": [
       "FK380028-008BK-0042              963\n",
       "FK048204-008.5WH-1039            840\n",
       "FK048204-008.5BK-1142            765\n",
       "FK380028-008WH-0061              705\n",
       "FK380028-008TA-0059              594\n",
       "                                ... \n",
       "BMR-FW380186-030-FDCY000020        1\n",
       "BMR-FK380401-064BK-51000003        1\n",
       "BMR-FJ103290-036.0-FDCY000067      1\n",
       "BMY-FW380230-025-51000115-F        1\n",
       "BMY-FJ103290-036.0-11000227        1\n",
       "Name: ItemCode, Length: 4129, dtype: int64"
      ]
     },
     "execution_count": 62,
     "metadata": {},
     "output_type": "execute_result"
    }
   ],
   "source": [
    "df.ItemCode.value_counts()"
   ]
  },
  {
   "cell_type": "code",
   "execution_count": 70,
   "metadata": {},
   "outputs": [
    {
     "data": {
      "text/plain": [
       "1910030501    10\n",
       "1913863801    10\n",
       "2007130101    10\n",
       "2005400103    10\n",
       "1905300101    10\n",
       "              ..\n",
       "B203600201     1\n",
       "B201670301     1\n",
       "B191650101     1\n",
       "B203080101     1\n",
       "B203060102     1\n",
       "Name: JobNo, Length: 17332, dtype: int64"
      ]
     },
     "execution_count": 70,
     "metadata": {},
     "output_type": "execute_result"
    }
   ],
   "source": [
    "df.JobNo.value_counts()"
   ]
  },
  {
   "cell_type": "code",
   "execution_count": 73,
   "metadata": {},
   "outputs": [
    {
     "data": {
      "text/html": [
       "<div>\n",
       "<style scoped>\n",
       "    .dataframe tbody tr th:only-of-type {\n",
       "        vertical-align: middle;\n",
       "    }\n",
       "\n",
       "    .dataframe tbody tr th {\n",
       "        vertical-align: top;\n",
       "    }\n",
       "\n",
       "    .dataframe thead th {\n",
       "        text-align: right;\n",
       "    }\n",
       "</style>\n",
       "<table border=\"1\" class=\"dataframe\">\n",
       "  <thead>\n",
       "    <tr style=\"text-align: right;\">\n",
       "      <th></th>\n",
       "      <th>JobNo</th>\n",
       "      <th>suffix</th>\n",
       "      <th>ItemCode</th>\n",
       "      <th>ColorGroup</th>\n",
       "      <th>UoM</th>\n",
       "      <th>QtyCom</th>\n",
       "      <th>QtyScrp</th>\n",
       "      <th>WC</th>\n",
       "      <th>MtrWgt</th>\n",
       "    </tr>\n",
       "  </thead>\n",
       "  <tbody>\n",
       "    <tr>\n",
       "      <th>4</th>\n",
       "      <td>1900010101</td>\n",
       "      <td>1</td>\n",
       "      <td>FW380049-015</td>\n",
       "      <td>NaN</td>\n",
       "      <td>Kgs</td>\n",
       "      <td>123.29</td>\n",
       "      <td>8.79</td>\n",
       "      <td>F2_JAC</td>\n",
       "      <td>7.33</td>\n",
       "    </tr>\n",
       "    <tr>\n",
       "      <th>12</th>\n",
       "      <td>1900010102</td>\n",
       "      <td>1</td>\n",
       "      <td>FW380049-015</td>\n",
       "      <td>NaN</td>\n",
       "      <td>Kgs</td>\n",
       "      <td>0.00</td>\n",
       "      <td>0.00</td>\n",
       "      <td>F1_WEV</td>\n",
       "      <td>7.33</td>\n",
       "    </tr>\n",
       "    <tr>\n",
       "      <th>20</th>\n",
       "      <td>1900010201</td>\n",
       "      <td>1</td>\n",
       "      <td>FW380049-015</td>\n",
       "      <td>NaN</td>\n",
       "      <td>Kgs</td>\n",
       "      <td>171.15</td>\n",
       "      <td>9.23</td>\n",
       "      <td>F1_WEV</td>\n",
       "      <td>7.33</td>\n",
       "    </tr>\n",
       "    <tr>\n",
       "      <th>28</th>\n",
       "      <td>1900010202</td>\n",
       "      <td>1</td>\n",
       "      <td>FW380049-015</td>\n",
       "      <td>NaN</td>\n",
       "      <td>Kgs</td>\n",
       "      <td>55.20</td>\n",
       "      <td>5.75</td>\n",
       "      <td>F1_WEV</td>\n",
       "      <td>7.33</td>\n",
       "    </tr>\n",
       "    <tr>\n",
       "      <th>39</th>\n",
       "      <td>1900010301</td>\n",
       "      <td>1</td>\n",
       "      <td>FW380049-015</td>\n",
       "      <td>NaN</td>\n",
       "      <td>Kgs</td>\n",
       "      <td>165.90</td>\n",
       "      <td>9.71</td>\n",
       "      <td>F1_WEV</td>\n",
       "      <td>7.33</td>\n",
       "    </tr>\n",
       "    <tr>\n",
       "      <th>...</th>\n",
       "      <td>...</td>\n",
       "      <td>...</td>\n",
       "      <td>...</td>\n",
       "      <td>...</td>\n",
       "      <td>...</td>\n",
       "      <td>...</td>\n",
       "      <td>...</td>\n",
       "      <td>...</td>\n",
       "      <td>...</td>\n",
       "    </tr>\n",
       "    <tr>\n",
       "      <th>65506</th>\n",
       "      <td>B204050104</td>\n",
       "      <td>1</td>\n",
       "      <td>BMY-FW380471-032-51000016-F</td>\n",
       "      <td>NaN</td>\n",
       "      <td>Kgs</td>\n",
       "      <td>0.00</td>\n",
       "      <td>0.00</td>\n",
       "      <td>F1_WP</td>\n",
       "      <td>0.00</td>\n",
       "    </tr>\n",
       "    <tr>\n",
       "      <th>65511</th>\n",
       "      <td>B204050105</td>\n",
       "      <td>1</td>\n",
       "      <td>BMY-FW380471-032-51000016-F</td>\n",
       "      <td>NaN</td>\n",
       "      <td>Kgs</td>\n",
       "      <td>0.00</td>\n",
       "      <td>0.00</td>\n",
       "      <td>F1_WP</td>\n",
       "      <td>0.00</td>\n",
       "    </tr>\n",
       "    <tr>\n",
       "      <th>65517</th>\n",
       "      <td>B204060101</td>\n",
       "      <td>1</td>\n",
       "      <td>BMY-FJ086559-038-51000059</td>\n",
       "      <td>NaN</td>\n",
       "      <td>Kgs</td>\n",
       "      <td>0.00</td>\n",
       "      <td>0.00</td>\n",
       "      <td>F2_WP</td>\n",
       "      <td>0.00</td>\n",
       "    </tr>\n",
       "    <tr>\n",
       "      <th>65523</th>\n",
       "      <td>B204060102</td>\n",
       "      <td>1</td>\n",
       "      <td>BMY-FJ086559-038-51000059</td>\n",
       "      <td>NaN</td>\n",
       "      <td>Kgs</td>\n",
       "      <td>0.00</td>\n",
       "      <td>0.00</td>\n",
       "      <td>F2_WP</td>\n",
       "      <td>0.00</td>\n",
       "    </tr>\n",
       "    <tr>\n",
       "      <th>65529</th>\n",
       "      <td>B204060103</td>\n",
       "      <td>1</td>\n",
       "      <td>BMY-FJ086559-038-51000059</td>\n",
       "      <td>NaN</td>\n",
       "      <td>Kgs</td>\n",
       "      <td>0.00</td>\n",
       "      <td>0.00</td>\n",
       "      <td>F2_WP</td>\n",
       "      <td>0.00</td>\n",
       "    </tr>\n",
       "  </tbody>\n",
       "</table>\n",
       "<p>6826 rows × 9 columns</p>\n",
       "</div>"
      ],
      "text/plain": [
       "            JobNo  suffix                     ItemCode ColorGroup  UoM  \\\n",
       "4      1900010101       1                 FW380049-015        NaN  Kgs   \n",
       "12     1900010102       1                 FW380049-015        NaN  Kgs   \n",
       "20     1900010201       1                 FW380049-015        NaN  Kgs   \n",
       "28     1900010202       1                 FW380049-015        NaN  Kgs   \n",
       "39     1900010301       1                 FW380049-015        NaN  Kgs   \n",
       "...           ...     ...                          ...        ...  ...   \n",
       "65506  B204050104       1  BMY-FW380471-032-51000016-F        NaN  Kgs   \n",
       "65511  B204050105       1  BMY-FW380471-032-51000016-F        NaN  Kgs   \n",
       "65517  B204060101       1    BMY-FJ086559-038-51000059        NaN  Kgs   \n",
       "65523  B204060102       1    BMY-FJ086559-038-51000059        NaN  Kgs   \n",
       "65529  B204060103       1    BMY-FJ086559-038-51000059        NaN  Kgs   \n",
       "\n",
       "       QtyCom  QtyScrp      WC  MtrWgt  \n",
       "4      123.29     8.79  F2_JAC    7.33  \n",
       "12       0.00     0.00  F1_WEV    7.33  \n",
       "20     171.15     9.23  F1_WEV    7.33  \n",
       "28      55.20     5.75  F1_WEV    7.33  \n",
       "39     165.90     9.71  F1_WEV    7.33  \n",
       "...       ...      ...     ...     ...  \n",
       "65506    0.00     0.00   F1_WP    0.00  \n",
       "65511    0.00     0.00   F1_WP    0.00  \n",
       "65517    0.00     0.00   F2_WP    0.00  \n",
       "65523    0.00     0.00   F2_WP    0.00  \n",
       "65529    0.00     0.00   F2_WP    0.00  \n",
       "\n",
       "[6826 rows x 9 columns]"
      ]
     },
     "execution_count": 73,
     "metadata": {},
     "output_type": "execute_result"
    }
   ],
   "source": [
    "df[df.suffix==1]"
   ]
  },
  {
   "cell_type": "code",
   "execution_count": 78,
   "metadata": {},
   "outputs": [],
   "source": [
    "df=df[df.QtyCom!=0]"
   ]
  },
  {
   "cell_type": "code",
   "execution_count": 79,
   "metadata": {},
   "outputs": [
    {
     "data": {
      "text/plain": [
       "0        8185.538881\n",
       "2        8185.538881\n",
       "3        8000.000000\n",
       "4         123.290000\n",
       "5          35.400000\n",
       "            ...     \n",
       "65495     207.870000\n",
       "65496      74.920000\n",
       "65497      53.220000\n",
       "65498      97.530000\n",
       "65499     110.900000\n",
       "Name: QtyCom, Length: 52279, dtype: float64"
      ]
     },
     "execution_count": 79,
     "metadata": {},
     "output_type": "execute_result"
    }
   ],
   "source": [
    "df.QtyCom"
   ]
  },
  {
   "cell_type": "code",
   "execution_count": 80,
   "metadata": {},
   "outputs": [],
   "source": [
    "df.to_excel(\"EWPS.xlsx\",\n",
    "             sheet_name='Sheet_name_1')  "
   ]
  }
 ],
 "metadata": {
  "kernelspec": {
   "display_name": "Python 3",
   "language": "python",
   "name": "python3"
  },
  "language_info": {
   "codemirror_mode": {
    "name": "ipython",
    "version": 3
   },
   "file_extension": ".py",
   "mimetype": "text/x-python",
   "name": "python",
   "nbconvert_exporter": "python",
   "pygments_lexer": "ipython3",
   "version": "3.8.5"
  }
 },
 "nbformat": 4,
 "nbformat_minor": 4
}
